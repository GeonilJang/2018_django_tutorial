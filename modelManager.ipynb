{
 "cells": [
  {
   "cell_type": "code",
   "execution_count": 1,
   "metadata": {},
   "outputs": [
    {
     "data": {
      "text/plain": [
       "blog.models.Post"
      ]
     },
     "execution_count": 1,
     "metadata": {},
     "output_type": "execute_result"
    }
   ],
   "source": [
    "Post"
   ]
  },
  {
   "cell_type": "code",
   "execution_count": 2,
   "metadata": {},
   "outputs": [
    {
     "data": {
      "text/plain": [
       "<QuerySet [<Post: 이상한 포스팅>, <Post: 4번째 포스팅>, <Post: 3번째 포스팅 입니다.>, <Post: 두 번째 포스팅입니다>, <Post: 첫 포스팅 입니다.>]>"
      ]
     },
     "execution_count": 2,
     "metadata": {},
     "output_type": "execute_result"
    }
   ],
   "source": [
    "Post.objects.all()"
   ]
  },
  {
   "cell_type": "code",
   "execution_count": 4,
   "metadata": {},
   "outputs": [
    {
     "data": {
      "text/plain": [
       "<Post: 테스트>"
      ]
     },
     "execution_count": 4,
     "metadata": {},
     "output_type": "execute_result"
    }
   ],
   "source": [
    "Post.objects.create(author=\"장건일\",title=\"테스트\",content=\"안뇽\")"
   ]
  },
  {
   "cell_type": "code",
   "execution_count": 5,
   "metadata": {},
   "outputs": [],
   "source": [
    "queryset = Post.objects.all()"
   ]
  },
  {
   "cell_type": "code",
   "execution_count": 6,
   "metadata": {},
   "outputs": [
    {
     "name": "stdout",
     "output_type": "stream",
     "text": [
      "<QuerySet [<Post: 테스트>, <Post: 이상한 포스팅>, <Post: 4번째 포스팅>, <Post: 3번째 포스팅 입니다.>, <Post: 두 번째 포스팅입니다>, <Post: 첫 포스팅 입니다.>]>\n"
     ]
    }
   ],
   "source": [
    "print(queryset)"
   ]
  },
  {
   "cell_type": "code",
   "execution_count": 10,
   "metadata": {},
   "outputs": [],
   "source": [
    "import random\n",
    "\n",
    "for i in range(10):\n",
    "    status = random.choice(['w','d','p'])\n",
    "    Post.objects.create(author=\"장건일\",title=\"{}테스트\".format(i),content=\"안뇽\", status=status)"
   ]
  },
  {
   "cell_type": "code",
   "execution_count": 11,
   "metadata": {},
   "outputs": [
    {
     "data": {
      "text/plain": [
       "26"
      ]
     },
     "execution_count": 11,
     "metadata": {},
     "output_type": "execute_result"
    }
   ],
   "source": [
    "Post.objects.all().count()"
   ]
  },
  {
   "cell_type": "code",
   "execution_count": 12,
   "metadata": {},
   "outputs": [
    {
     "data": {
      "text/plain": [
       "<QuerySet [<Post: 1테스트>]>"
      ]
     },
     "execution_count": 12,
     "metadata": {},
     "output_type": "execute_result"
    }
   ],
   "source": [
    "Post.objects.filter(title__icontains='1')"
   ]
  },
  {
   "cell_type": "code",
   "execution_count": 15,
   "metadata": {},
   "outputs": [],
   "source": [
    "from django.db.models import Q"
   ]
  },
  {
   "cell_type": "code",
   "execution_count": 17,
   "metadata": {},
   "outputs": [
    {
     "data": {
      "text/plain": [
       "<QuerySet [<Post: 1테스트>]>"
      ]
     },
     "execution_count": 17,
     "metadata": {},
     "output_type": "execute_result"
    }
   ],
   "source": [
    "Post.objects.filter( Q(title__icontains='1') | Q(title__endswith='3'))"
   ]
  },
  {
   "cell_type": "code",
   "execution_count": 18,
   "metadata": {},
   "outputs": [
    {
     "name": "stdout",
     "output_type": "stream",
     "text": [
      "9테스트\n",
      "8테스트\n",
      "7테스트\n",
      "6테스트\n",
      "5테스트\n",
      "4테스트\n",
      "3테스트\n",
      "2테스트\n",
      "1테스트\n",
      "0테스트\n",
      "테스트\n",
      "테스트\n",
      "테스트\n",
      "테스트\n",
      "테스트\n",
      "테스트\n",
      "테스트\n",
      "테스트\n",
      "테스트\n",
      "테스트\n",
      "테스트\n",
      "이상한 포스팅\n",
      "4번째 포스팅\n",
      "3번째 포스팅 입니다.\n",
      "두 번째 포스팅입니다\n",
      "첫 포스팅 입니다.\n"
     ]
    }
   ],
   "source": [
    "for post in Post.objects.all():\n",
    "    print(post)"
   ]
  },
  {
   "cell_type": "code",
   "execution_count": 19,
   "metadata": {},
   "outputs": [],
   "source": [
    "queryset = Post.objects.all()"
   ]
  },
  {
   "cell_type": "code",
   "execution_count": 21,
   "metadata": {},
   "outputs": [
    {
     "name": "stdout",
     "output_type": "stream",
     "text": [
      "<QuerySet [<Post: 9테스트>, <Post: 8테스트>, <Post: 7테스트>, <Post: 6테스트>, <Post: 5테스트>, <Post: 4테스트>, <Post: 3테스트>, <Post: 2테스트>, <Post: 1테스트>, <Post: 0테스트>, <Post: 테스트>, <Post: 테스트>, <Post: 테스트>, <Post: 테스트>, <Post: 테스트>, <Post: 테스트>, <Post: 테스트>, <Post: 테스트>, <Post: 테스트>, <Post: 테스트>, '...(remaining elements truncated)...']>\n"
     ]
    }
   ],
   "source": [
    "print(queryset)"
   ]
  },
  {
   "cell_type": "code",
   "execution_count": 22,
   "metadata": {},
   "outputs": [],
   "source": [
    "qs = queryset.get(title='1테스트')"
   ]
  },
  {
   "cell_type": "code",
   "execution_count": 23,
   "metadata": {},
   "outputs": [
    {
     "data": {
      "text/plain": [
       "<Post: 1테스트>"
      ]
     },
     "execution_count": 23,
     "metadata": {},
     "output_type": "execute_result"
    }
   ],
   "source": [
    "qs"
   ]
  },
  {
   "cell_type": "code",
   "execution_count": 24,
   "metadata": {},
   "outputs": [
    {
     "name": "stdout",
     "output_type": "stream",
     "text": [
      "1테스트\n"
     ]
    }
   ],
   "source": [
    "print(qs)"
   ]
  },
  {
   "cell_type": "code",
   "execution_count": 25,
   "metadata": {},
   "outputs": [],
   "source": [
    "post = Post.objects.get(id=1)\n",
    "post.content =\"안뇽\"\n",
    "post.save()"
   ]
  },
  {
   "cell_type": "code",
   "execution_count": 26,
   "metadata": {},
   "outputs": [
    {
     "data": {
      "text/plain": [
       "<Post: 첫 포스팅 입니다.>"
      ]
     },
     "execution_count": 26,
     "metadata": {},
     "output_type": "execute_result"
    }
   ],
   "source": [
    "post"
   ]
  },
  {
   "cell_type": "code",
   "execution_count": 27,
   "metadata": {},
   "outputs": [
    {
     "data": {
      "text/plain": [
       "'안뇽'"
      ]
     },
     "execution_count": 27,
     "metadata": {},
     "output_type": "execute_result"
    }
   ],
   "source": [
    "post.content"
   ]
  },
  {
   "cell_type": "code",
   "execution_count": 28,
   "metadata": {},
   "outputs": [
    {
     "data": {
      "text/plain": [
       "26"
      ]
     },
     "execution_count": 28,
     "metadata": {},
     "output_type": "execute_result"
    }
   ],
   "source": [
    "queryset = Post.objects.all()\n",
    "queryset.update(content=\"장건일은 멋쟁이\")"
   ]
  },
  {
   "cell_type": "code",
   "execution_count": 29,
   "metadata": {},
   "outputs": [
    {
     "name": "stdout",
     "output_type": "stream",
     "text": [
      "장건일은 멋쟁이\n",
      "장건일은 멋쟁이\n",
      "장건일은 멋쟁이\n",
      "장건일은 멋쟁이\n",
      "장건일은 멋쟁이\n",
      "장건일은 멋쟁이\n",
      "장건일은 멋쟁이\n",
      "장건일은 멋쟁이\n",
      "장건일은 멋쟁이\n",
      "장건일은 멋쟁이\n",
      "장건일은 멋쟁이\n",
      "장건일은 멋쟁이\n",
      "장건일은 멋쟁이\n",
      "장건일은 멋쟁이\n",
      "장건일은 멋쟁이\n",
      "장건일은 멋쟁이\n",
      "장건일은 멋쟁이\n",
      "장건일은 멋쟁이\n",
      "장건일은 멋쟁이\n",
      "장건일은 멋쟁이\n",
      "장건일은 멋쟁이\n",
      "장건일은 멋쟁이\n",
      "장건일은 멋쟁이\n",
      "장건일은 멋쟁이\n",
      "장건일은 멋쟁이\n",
      "장건일은 멋쟁이\n"
     ]
    }
   ],
   "source": [
    "for post in queryset:\n",
    "    print(post.content)"
   ]
  },
  {
   "cell_type": "code",
   "execution_count": null,
   "metadata": {},
   "outputs": [],
   "source": []
  }
 ],
 "metadata": {
  "kernelspec": {
   "display_name": "Django Shell-Plus",
   "language": "python",
   "name": "django_extensions"
  },
  "language_info": {
   "codemirror_mode": {
    "name": "ipython",
    "version": 3
   },
   "file_extension": ".py",
   "mimetype": "text/x-python",
   "name": "python",
   "nbconvert_exporter": "python",
   "pygments_lexer": "ipython3",
   "version": "3.6.5"
  }
 },
 "nbformat": 4,
 "nbformat_minor": 2
}
